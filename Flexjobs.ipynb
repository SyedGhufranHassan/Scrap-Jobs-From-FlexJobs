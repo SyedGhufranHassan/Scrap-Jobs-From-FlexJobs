{
 "cells": [
  {
   "cell_type": "code",
   "execution_count": 213,
   "metadata": {},
   "outputs": [
    {
     "name": "stderr",
     "output_type": "stream",
     "text": [
      "<>:3: SyntaxWarning: invalid escape sequence '\\W'\n",
      "<>:3: SyntaxWarning: invalid escape sequence '\\W'\n",
      "C:\\Users\\Syed Ali Zar\\AppData\\Local\\Temp\\ipykernel_18036\\3486060501.py:3: SyntaxWarning: invalid escape sequence '\\W'\n",
      "  s = Service(\"G:\\Web-Scraping/chromedriver.exe\")\n"
     ]
    }
   ],
   "source": [
    "from selenium.webdriver import Chrome\n",
    "from selenium.webdriver.chrome.service import Service\n",
    "s = Service(\"G:\\Web-Scraping/chromedriver.exe\")\n",
    "driver = Chrome(service=s)"
   ]
  },
  {
   "cell_type": "code",
   "execution_count": 214,
   "metadata": {},
   "outputs": [],
   "source": [
    "driver.get('https://www.flexjobs.com/')"
   ]
  },
  {
   "cell_type": "code",
   "execution_count": 215,
   "metadata": {},
   "outputs": [],
   "source": [
    "from selenium.webdriver.common.by import By"
   ]
  },
  {
   "cell_type": "code",
   "execution_count": 216,
   "metadata": {},
   "outputs": [],
   "source": [
    "search_job=driver.find_element(By.ID,'search-by-param')"
   ]
  },
  {
   "cell_type": "code",
   "execution_count": 217,
   "metadata": {},
   "outputs": [],
   "source": [
    "search_job.send_keys('Software Engineer')"
   ]
  },
  {
   "cell_type": "code",
   "execution_count": 218,
   "metadata": {},
   "outputs": [],
   "source": [
    "search_with_location=driver.find_element(By.ID,'search-by-location')"
   ]
  },
  {
   "cell_type": "code",
   "execution_count": 219,
   "metadata": {},
   "outputs": [],
   "source": [
    "search_with_location.send_keys('Lahore, Pakistan')"
   ]
  },
  {
   "cell_type": "code",
   "execution_count": 220,
   "metadata": {},
   "outputs": [],
   "source": [
    "search_button=driver.find_element(By.ID,'submit-search')"
   ]
  },
  {
   "cell_type": "code",
   "execution_count": 221,
   "metadata": {},
   "outputs": [],
   "source": [
    "search_button.click()"
   ]
  },
  {
   "cell_type": "code",
   "execution_count": 222,
   "metadata": {},
   "outputs": [],
   "source": [
    "import time"
   ]
  },
  {
   "cell_type": "markdown",
   "metadata": {},
   "source": [
    "## Schedule"
   ]
  },
  {
   "cell_type": "code",
   "execution_count": 223,
   "metadata": {},
   "outputs": [],
   "source": [
    "schedule_type=driver.find_element(By.ID,'filter-group-btn-Schedule').click()"
   ]
  },
  {
   "cell_type": "code",
   "execution_count": 224,
   "metadata": {},
   "outputs": [],
   "source": [
    "full_time=driver.find_element(By.ID,'cat-checkbox-Full-Time')\n",
    "part_time=driver.find_element(By.ID,'cat-checkbox-Part-Time')\n",
    "flexible=driver.find_element(By.ID,'cat-checkbox-Flexible-Schedule')\n",
    "alternative=driver.find_element(By.ID,'cat-checkbox-Alternative-Schedule')"
   ]
  },
  {
   "cell_type": "code",
   "execution_count": 225,
   "metadata": {},
   "outputs": [],
   "source": [
    "a=int(input(\"What you want and then press according to that: 1 for Full time,2 for Part time, 3 for Flexible, 4 for Alternative\"))\n",
    "if a==1:\n",
    "    full_time.click()\n",
    "elif a==2:\n",
    "    part_time.click()\n",
    "elif a==3:\n",
    "    flexible.click()\n",
    "else:\n",
    "    alternative.click()"
   ]
  },
  {
   "cell_type": "markdown",
   "metadata": {},
   "source": [
    "## Career Type"
   ]
  },
  {
   "cell_type": "code",
   "execution_count": 226,
   "metadata": {},
   "outputs": [],
   "source": [
    "career_type=driver.find_element(By.ID,'filter-group-btn-Career-Level').click()"
   ]
  },
  {
   "cell_type": "code",
   "execution_count": 227,
   "metadata": {},
   "outputs": [],
   "source": [
    "entry_level=driver.find_element(By.ID,'cat-checkbox-Entry-Level')\n",
    "experienced=driver.find_element(By.ID,'cat-checkbox-Experienced')\n",
    "manager=driver.find_element(By.ID,'cat-checkbox-Manager')\n",
    "senior_level=driver.find_element(By.ID,'cat-checkbox-Senior-Level-Manager')"
   ]
  },
  {
   "cell_type": "code",
   "execution_count": 228,
   "metadata": {},
   "outputs": [],
   "source": [
    "a=int(input(\"What you want and then press according to that: 1 for Entry Level,2 for Experienced, 3 for Manager, 4 forSeniorLevel Manager\"))\n",
    "if a==1:\n",
    "    entry_level.click()\n",
    "elif a==2:\n",
    "    experienced.click()\n",
    "elif a==3:\n",
    "    manager.click()\n",
    "else:\n",
    "    senior_level.click()"
   ]
  },
  {
   "cell_type": "code",
   "execution_count": 229,
   "metadata": {},
   "outputs": [],
   "source": [
    "last_height =driver.execute_script('return document.body.scrollHeight')\n",
    "while True:\n",
    "    driver.execute_script('window.scrollTo(0,document.body.scrollHeight)')\n",
    "    time.sleep(2)\n",
    "    new_height =driver.execute_script('return document.body.scrollHeight')\n",
    "    if (new_height == last_height):\n",
    "        break\n",
    "    last_height = new_height\n"
   ]
  },
  {
   "cell_type": "code",
   "execution_count": 230,
   "metadata": {},
   "outputs": [],
   "source": [
    "from selenium.webdriver.support.ui import WebDriverWait\n",
    "from selenium.webdriver.support import expected_conditions as EC"
   ]
  },
  {
   "cell_type": "code",
   "execution_count": 231,
   "metadata": {},
   "outputs": [
    {
     "data": {
      "text/plain": [
       "3"
      ]
     },
     "execution_count": 231,
     "metadata": {},
     "output_type": "execute_result"
    }
   ],
   "source": [
    "divs=driver.find_elements(By.CLASS_NAME, 'fmkHkh')\n",
    "div_count=len(divs)\n",
    "div_count"
   ]
  },
  {
   "cell_type": "code",
   "execution_count": 232,
   "metadata": {},
   "outputs": [],
   "source": [
    "names=[]\n",
    "\n",
    "paras=[]\n",
    "posting=[]\n",
    "times=[]"
   ]
  },
  {
   "cell_type": "code",
   "execution_count": 233,
   "metadata": {},
   "outputs": [],
   "source": [
    "for i in range(1,div_count+1):\n",
    "    name=driver.find_element(By.XPATH,'/html/body/div[1]/div/div/div[1]/main/div/div[1]/div[6]/div[' +str(i)+ ']/div/div/div[1]/div[1]/div/a').text\n",
    "    names.append(name)\n",
    "    description=driver.find_element(By.XPATH,'/html/body/div[1]/div/div/div[1]/main/div/div[1]/div[6]/div[' +str(i)+ ']/div/div/p').text\n",
    "    paras.append(description)\n",
    "    timing=driver.find_element(By.XPATH,'/html/body/div[1]/div/div/div[1]/main/div/div[1]/div[6]/div[' +str(i)+ ']/div/div/div[2]/ul/li[2]').text\n",
    "    times.append(timing)\n",
    "    post=driver.find_element(By.XPATH,'/html/body/div[1]/div/div/div[1]/main/div/div[1]/div[6]/div[' +str(i)+ ']/div/div/div[1]/div[2]/span').text\n",
    "    posting.append(post)\n"
   ]
  },
  {
   "cell_type": "code",
   "execution_count": 234,
   "metadata": {},
   "outputs": [
    {
     "data": {
      "text/plain": [
       "(3, 3, 3, 3)"
      ]
     },
     "execution_count": 234,
     "metadata": {},
     "output_type": "execute_result"
    }
   ],
   "source": [
    "len(names),len(paras),len(times),len(posting)"
   ]
  },
  {
   "cell_type": "code",
   "execution_count": 235,
   "metadata": {},
   "outputs": [
    {
     "data": {
      "text/plain": [
       "(['Organized Link Building Specialist',\n",
       "  'Junior Data Analyst',\n",
       "  'Junior Data Analyst, APAC'],\n",
       " ['Ideal candidate will be comfortable engaging with website owners and bloggers to establish rapport with these contacts and ultimately encourage them to share and backlink to our content. This requires emailing contacts from our database, sharing content.',\n",
       "  'Utilize Excel/Google Sheets to manage, analyze, and validate HR data. Develop/maintain compensation structures. Support Compensation Solutions team with data-driven insights/reporting. Identify/resolve data discrepancies promptly for data accuracy.',\n",
       "  'Junior Data Analyst responsible for managing, analyzing, and validating HR-related data using Excel and/or Google Sheets. Assisting in the development and maintenance of compensation structures. Supporting the Compensation Solutions team with...'],\n",
       " ['Full-Time/Part-Time', 'Part-Time', 'Part-Time'],\n",
       " ['30+ days ago', '30+ days ago', '30+ days ago'])"
      ]
     },
     "execution_count": 235,
     "metadata": {},
     "output_type": "execute_result"
    }
   ],
   "source": [
    "names,paras,times,posting"
   ]
  },
  {
   "cell_type": "code",
   "execution_count": 236,
   "metadata": {},
   "outputs": [],
   "source": [
    "import pandas as pd"
   ]
  },
  {
   "cell_type": "code",
   "execution_count": 237,
   "metadata": {},
   "outputs": [
    {
     "data": {
      "text/html": [
       "<div>\n",
       "<style scoped>\n",
       "    .dataframe tbody tr th:only-of-type {\n",
       "        vertical-align: middle;\n",
       "    }\n",
       "\n",
       "    .dataframe tbody tr th {\n",
       "        vertical-align: top;\n",
       "    }\n",
       "\n",
       "    .dataframe thead th {\n",
       "        text-align: right;\n",
       "    }\n",
       "</style>\n",
       "<table border=\"1\" class=\"dataframe\">\n",
       "  <thead>\n",
       "    <tr style=\"text-align: right;\">\n",
       "      <th></th>\n",
       "      <th>Name</th>\n",
       "      <th>Description</th>\n",
       "      <th>Time</th>\n",
       "      <th>Posting-Time</th>\n",
       "    </tr>\n",
       "  </thead>\n",
       "  <tbody>\n",
       "    <tr>\n",
       "      <th>0</th>\n",
       "      <td>Organized Link Building Specialist</td>\n",
       "      <td>Ideal candidate will be comfortable engaging w...</td>\n",
       "      <td>Full-Time/Part-Time</td>\n",
       "      <td>30+ days ago</td>\n",
       "    </tr>\n",
       "    <tr>\n",
       "      <th>1</th>\n",
       "      <td>Junior Data Analyst</td>\n",
       "      <td>Utilize Excel/Google Sheets to manage, analyze...</td>\n",
       "      <td>Part-Time</td>\n",
       "      <td>30+ days ago</td>\n",
       "    </tr>\n",
       "    <tr>\n",
       "      <th>2</th>\n",
       "      <td>Junior Data Analyst, APAC</td>\n",
       "      <td>Junior Data Analyst responsible for managing, ...</td>\n",
       "      <td>Part-Time</td>\n",
       "      <td>30+ days ago</td>\n",
       "    </tr>\n",
       "  </tbody>\n",
       "</table>\n",
       "</div>"
      ],
      "text/plain": [
       "                                 Name  \\\n",
       "0  Organized Link Building Specialist   \n",
       "1                 Junior Data Analyst   \n",
       "2           Junior Data Analyst, APAC   \n",
       "\n",
       "                                         Description                 Time  \\\n",
       "0  Ideal candidate will be comfortable engaging w...  Full-Time/Part-Time   \n",
       "1  Utilize Excel/Google Sheets to manage, analyze...            Part-Time   \n",
       "2  Junior Data Analyst responsible for managing, ...            Part-Time   \n",
       "\n",
       "   Posting-Time  \n",
       "0  30+ days ago  \n",
       "1  30+ days ago  \n",
       "2  30+ days ago  "
      ]
     },
     "execution_count": 237,
     "metadata": {},
     "output_type": "execute_result"
    }
   ],
   "source": [
    "data = {'Name':names,'Description':paras, 'Time':times, 'Posting-Time':posting}\n",
    "df = pd.DataFrame(data, columns=['Name','Description','Time','Posting-Time'])\n",
    "df.to_csv('flexjobs.csv', index=False)\n",
    "df = pd.read_csv('flexjobs.csv')\n",
    "df"
   ]
  }
 ],
 "metadata": {
  "kernelspec": {
   "display_name": "Python 3",
   "language": "python",
   "name": "python3"
  },
  "language_info": {
   "codemirror_mode": {
    "name": "ipython",
    "version": 3
   },
   "file_extension": ".py",
   "mimetype": "text/x-python",
   "name": "python",
   "nbconvert_exporter": "python",
   "pygments_lexer": "ipython3",
   "version": "3.12.2"
  }
 },
 "nbformat": 4,
 "nbformat_minor": 2
}
